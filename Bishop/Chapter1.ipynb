{
 "cells": [
  {
   "cell_type": "markdown",
   "metadata": {},
   "source": [
    "# Chapter 1\n",
    "\n",
    "Searching for patterns in data has a long and successful history.  Back to Tycho Brahe's observations in the 16th century and Johannes Kepler discovering the empirical laws of planetary motion.\n",
    "\n",
    "It is very difficult to design by hand a method that will recognize handwritten digits.  One could use handcrafted rules or heuristics for distinguishing the digits based on the shapes of the strokes, but in practice such an approach leads to a proliferation of rules and exceptions to the rules and so on... this invariably gives bad results!\n",
    "\n",
    "In a machine learning approach, a *training set* of $N$ digits $\\{x_1, ..., x_N\\}$ is used to tune the parameters of an adaptive model.  Category of a digit is *target vector* $\\bf{t}$.\n",
    "\n",
    "Result of a machine learning algorithm can be expressed as a function $\\bf{y}(\\bf{x})$ which takes a new digit image $\\bf{x}$ as input and generates on vector $\\bf{y}$, encoded in the same way as the target vectors.  The function $\\bf{y}(\\bf{x})$ is determined during the *training phase*, AKA the *learning phase*.  Once trained, the model can be used on a new set of input data, termed the *test set*.  Ability to categorize correctly new examples that differ from those used for traning is known as *generalization*.  Generalization is a central goal.\n",
    "\n",
    "*Pre-processing* often occurs in order to make the problem more tractable.  (In handwritten digit recogniztion, the digits are typically translated and scaled so that each digit is contained within a box of a fixed size.)  This greatly reduces the variability within each digit class, because the location and scale of all the digits are now the same.  Pre-processing stage often also called *feature extraction*.\n",
    "\n",
    "*Supervised learning* - When the training data comprises examples of input vectors along with their corresponding target vectors.  The dataset is \"labeled\".  *Classification* problems aim to assign each input vector to a finite number of discrete categories.  *Regression* problems are for assinging input vectors to a value for one or more continious variables.\n",
    "\n",
    "*Unsupervised learning* - When the training data consists of a set of input vectors without any corresponding target values.  The goal may be to discover groups of similar examples within the data, where it is called clustering, or to determine the distribution of data within the input space, known as *density estimation*, or to project data from a high-dimensional space down to two or three dimensions for the purpose of *visualization*.\n",
    "\n",
    "*Reinforcement learning* - Concerned with the porblem of finding suitable actions to take in a given situation in order to maximize a reward.  Here the learning algorithm is not given examples of optimal outputs, but must instead discover them by a process of trial and error.  There is a sequence of states and actions in which the learning algorithm is interacting with its environment.  In many cases, the current action not only affects the immediate reward but also has an impact on the reward at all subsequent time steps.  A general feature is the tradeoff between *exploration* in which the system tries out new kinds of actions to see how effective they are, and *exploitation* in which the system makes use of actions that are known to yield a high reward.\n",
    "\n",
    "## 1.1 Example: Polynomial Curve Fitting"
   ]
  },
  {
   "cell_type": "markdown",
   "metadata": {},
   "source": [
    "Suppose we observe a real-value input variable $x$ and we wish to use this observation to predict the value of a real-valued target variable $t$.\n",
    "\n",
    "Generate data from $\\sin(2\\pi x)$ with random noise in the target variables.\n",
    "\n",
    "Given a training set comprisiing $N$ observations of $x$, written $\\textbf{x} = (x_1,...,x_N)^T$, together with corresponding observations of the values of $t$, denoted $\\textbf{t}=(t_1,...,t_N)^T$.  \n",
    "\n",
    "Generate below for N = 10.  Input data set spaced $x_n$ uniformly for $x=1,...,N$ in range [0,1].  Target data set obtained by first computing the corresponding values of $\\sin(2\\pi x)$ and then adding a small level of random nosie having a Gaussian distribution."
   ]
  },
  {
   "cell_type": "code",
   "execution_count": 8,
   "metadata": {
    "collapsed": false
   },
   "outputs": [
    {
     "data": {
      "image/png": "[encoded data removed]",
      "text/plain": [
       "<matplotlib.figure.Figure at 0x11a0f3b50>"
      ]
     },
     "metadata": {},
     "output_type": "display_data"
    }
   ],
   "source": [
    "%matplotlib inline\n",
    "N = 10\n",
    "import numpy as np\n",
    "import math\n",
    "import matplotlib.pyplot as plt\n",
    "\n",
    "xline = np.linspace(0,1,1000)\n",
    "tline = np.sin(2 * math.pi * xline)\n",
    "\n",
    "x = np.linspace(0,1,10)\n",
    "t = np.sin(2 * math.pi * x) + np.random.randn(1,10)[0]*0.1\n",
    "\n",
    "plt.plot(xline,tline, color='blue')\n",
    "plt.plot(x,t,'.', color='red')\n",
    "plt.show()"
   ]
  },
  {
   "cell_type": "markdown",
   "metadata": {},
   "source": [
    "By generating data in this way, we are capturing a property of many real data sets, namely that they possess an underlying regularity, which we wish to learn, but that individual observations are corrupted by random noise.\n",
    "\n",
    "Our goal is to exploit this training set in order ot make predictions of the value $\\hat{t}$ of the target variable for some new $\\hat{x}$ of the input variable.  This involves implicitly trying to discover the underlying function $\\sin(2\\pi x)$.  This is intrinsically a dificult problem since we have to generalize from a finite data set.  Furthermore the observed data are corrupted with noise, and so for a given $\\hat{x}$ there is uncertainty as to the appropraite value for $\\hat{t}$.  Probability theory provides  framework for expressing such uncertainty in a precise and quantitative manner, and decision theory, discussed in Section 1.5, allows us to exploit this probabilistic representaiton in order ot make predictions that are optimal according to appropriate criteria."
   ]
  },
  {
   "cell_type": "markdown",
   "metadata": {},
   "source": [
    "For the moment, we shall proceed, rather informally and consider a simple approach based on curve fitting.\n",
    "\n",
    "In particular, we shall fit the data using a polynomial function of the form:\n",
    "\n",
    "$$y(x,\\textbf{w}) = w_0 + w_1 x + w_2 x^2 + ... + w_M x^M = \\sum_{j=0}^M w_j x^j $$\n",
    "\n",
    "where $M$ is the *order* of the polynomial, and $x^j$ denotes $x$ raised to the power of $j$.  Polynomial coefficients are collectively denoted by the vector $\\bf{w}$.  Polynomial function is a nonlinear function of $x$, but it is a linear function of the coefficients $\\bf{w}$.  Funcions which are linear in the unknown parameters have important properties and are called *linear models* and will be discussed extensively in Chapters 3 and 4.\n",
    "\n",
    "Values of the coefficients will be determined by fitting the polynomial to the training data.  This can be done by minimizing an *error function* that measures the misfit between the function $y(x,\\textbf{w})$, for any given value of $\\textbf{w}$, and the training set of data points.  One simple choice of error function, which is widely used, is given by the sum of the squres of the errors between the predictions $y(x_n,\\textbf{w})$ for each data point $x_n$ and the corresponding target values $t_n$, so that we minimize:\n",
    "\n",
    "$$E(\\textbf{w}) = \\frac{1}{2} \\sum_{n=1}^N \\{y(x_n, \\textbf{w}) - t_n\\}^2 $$\n",
    "\n",
    "Where the factor of 1/2 is included for later convenice.  We shall discuss the motivation for this choice of error function later in the chapter.  For the moment we simply note that it is a nonnegative quantity that would be zero if, and only if, the function $y(x,\\textbf{w})$ were to pass exactly through each training data point.  The geommetrical interpretation of the sum-of-squares error function is illustrated in Figure 1.3."
   ]
  },
  {
   "cell_type": "code",
   "execution_count": 9,
   "metadata": {
    "collapsed": false
   },
   "outputs": [
    {
     "data": {
      "image/png": "[encoded data removed]",
      "text/plain": [
       "<matplotlib.figure.Figure at 0x114d782d0>"
      ]
     },
     "metadata": {},
     "output_type": "display_data"
    }
   ],
   "source": [
    "i = 3\n",
    "j = 6\n",
    "\n",
    "xlineslice = xline[i*100:j*100]\n",
    "tlineslice = tline[i*100:j*100]\n",
    "\n",
    "xslice = x[i:j]\n",
    "tslice = t[i:j]\n",
    "\n",
    "plt.plot(xlineslice,tlineslice, color='blue')\n",
    "plt.plot(xslice,tslice,'.', color='red')\n",
    "\n",
    "# Plot residuals\n",
    "\n",
    "#xslice\n",
    "actualslice = np.sin(2 * math.pi * xslice)\n",
    "#tslice\n",
    "\n",
    "for ctr in range(len(tslice)):\n",
    "    plt.plot([xslice[ctr],xslice[ctr]], [tslice[ctr],actualslice[ctr]],color='green')\n",
    "\n",
    "plt.show()\n",
    "\n"
   ]
  },
  {
   "cell_type": "markdown",
   "metadata": {},
   "source": [
    "We can solve the curve fitting problem by choosing the value for $\\textbf{w}$ for which $E(\\textbf{w})$ is as small as possible.  Because the error function is a quadratic function of the coefficients $\\textbf{w}$, its derivatives with respect to the coefficeints will be linear in the elements of $\\textbf{w}$ and so the minimization of the error function has a unique solution, denoted by $\\textbf{w}^*$, which can be found in closed form.  The resulting polynomial is given by the function $y(x,\\textbf{w}^*)$.\n",
    "\n",
    "The following **gradient equations** can be written and solved.  The gradient equations apply to all least squares problems.\n",
    "\n",
    "$$ \\frac{\\partial}{\\partial \\textbf{w}} E(\\textbf{w}) = \\sum_{n=1}^N \\{y(x_n, \\textbf{w}) - t_n\\}  \\frac{\\partial}{\\partial \\textbf{w}} y(x_n, \\textbf{w}) = 0$$\n",
    "\n",
    "$$ 0 = \\sum_{n=1}^N \\{y(x_n, \\textbf{w}) - t_n\\}  \\frac{\\partial}{\\partial w_k} y(x_n, \\textbf{w}) \\ \\ \\text{for} \\ \\ k = 0,...,M$$\n",
    "\n",
    "\n",
    "\n",
    "$$ 0 = \\sum_{n=1}^N \\{\\sum_{j=0}^M w_j x^j - t_n\\}  \\frac{\\partial}{\\partial w_k} \\sum_{j=0}^M w_j x^j \\ \\ \\text{for} \\ \\ k = 0,...,M$$\n",
    "\n",
    "$$ 0 = \\sum_{n=1}^N \\{\\sum_{j=0}^M w_j x^j - t_n\\} x^k  \\ \\ \\text{for} \\ \\ k = 0,...,M$$\n",
    "\n",
    "Since we have a linear least squares model, i.e. it is linear in the elements of $\\textbf{w}$, we may find the least squares estimate via the solution to the normal equation:\n",
    "\n",
    "$$ \\hat{\\mathbf{\\beta}} = (X^TX)^{-1}X^T\\textbf{y} $$\n",
    "\n",
    "Where we have $n$ points $(x_i, y_i)$ and are fitting with polynomial coefficients $w_o, ..., w_M$\n",
    "\n",
    "$$\\begin{bmatrix}y_1 \\\\y_2 \\\\ \\vdots \\\\ y_n\\end{bmatrix} \n",
    "= \\begin{bmatrix}1 & x_1 & x_1^2 & ... & x_1^M \\\\ \n",
    "1 & x_2 & x_2^2 & ... & x_2^M \\\\\n",
    "\\vdots & \\vdots & \\vdots & \\ddots & \\vdots \\\\\n",
    "1 & x_n & x_n^2 & ... & x_n^M \n",
    "\\end{bmatrix} \n",
    "\\begin{bmatrix}w_0 \\\\ w_1 \\\\ \\vdots \\\\ w_M\\end{bmatrix}$$\n",
    "\n"
   ]
  },
  {
   "cell_type": "markdown",
   "metadata": {},
   "source": [
    "$$\\textbf{y} = X \\mathbf{\\beta}$$"
   ]
  },
  {
   "cell_type": "code",
   "execution_count": 14,
   "metadata": {
    "collapsed": false
   },
   "outputs": [
    {
     "data": {
      "image/png": "[encoded data removed]",
      "text/plain": [
       "<matplotlib.figure.Figure at 0x11a0dd950>"
      ]
     },
     "metadata": {},
     "output_type": "display_data"
    }
   ],
   "source": [
    "import numpy as np\n",
    "import matplotlib.pyplot as plt\n",
    "\n",
    "x = np.random.rand(3, 2) * 10\n",
    "a = np.matrix([ [1,x[0][0]], [1,x[1][0]], [1,x[2][0]] ])\n",
    "b = np.matrix([ [x[0][1]], [x[1][1]], [x[2][1]] ])\n",
    "yy = (a.T * a).I * a.T * b\n",
    "xx = np.linspace(1, 10, 50)\n",
    "y = np.array(yy[0] + yy[1] * xx)\n",
    "\n",
    "plt.figure(1)\n",
    "plt.plot(xx, y.T, color='r')\n",
    "plt.scatter([x[0][0], x[1][0], x[2][0] ], [x[0][1], x[1][1], x[2][1] ]) \n",
    "plt.show()"
   ]
  },
  {
   "cell_type": "code",
   "execution_count": 27,
   "metadata": {
    "collapsed": false
   },
   "outputs": [
    {
     "name": "stdout",
     "output_type": "stream",
     "text": [
      "[[ 60.40835576]\n",
      " [-32.95624292]\n",
      " [  4.30140641]]\n"
     ]
    },
    {
     "data": {
      "image/png": "[encoded data removed]",
      "text/plain": [
       "<matplotlib.figure.Figure at 0x11c665910>"
      ]
     },
     "metadata": {},
     "output_type": "display_data"
    }
   ],
   "source": [
    "import numpy as np\n",
    "import matplotlib.pyplot as plt\n",
    "\n",
    "xypairs = np.random.rand(3, 2) * 10\n",
    "\n",
    "Xmatrix = np.matrix([ [1,xypairs[0][0],xypairs[0][0]**2], [1,xypairs[1][0],xypairs[1][0]**2], [1,xypairs[2][0],xypairs[2][0]**2] ])\n",
    "yvec = np.matrix([ [xypairs[0][1]], [xypairs[1][1]], [xypairs[2][1]] ])\n",
    "beta = (Xmatrix.T * Xmatrix).I * Xmatrix.T * yvec\n",
    "print beta\n",
    "\n",
    "xx = np.linspace(1, 10, 50)\n",
    "y = np.array(beta[0] + beta[1] * xx + beta[2]* xx**2)\n",
    "\n",
    "plt.figure(1)\n",
    "plt.plot(xx, y.T, color='r')\n",
    "plt.scatter([xypairs[0][0], xypairs[1][0], xypairs[2][0] ], [xypairs[0][1], xypairs[1][1], xypairs[2][1] ]) \n",
    "plt.show()"
   ]
  },
  {
   "cell_type": "code",
   "execution_count": 150,
   "metadata": {
    "collapsed": false
   },
   "outputs": [],
   "source": [
    "def polyFit(data,M):\n",
    "    # data should be in the format: n by 2 numpy matrix\n",
    "    # M is order of polynomial fit\n",
    "    \n",
    "    n = data.shape[0]\n",
    "\n",
    "    # Xmatrix is n by M\n",
    "    protomatrix = np.zeros((n,M))\n",
    "    Xmatrix = np.matrix(protomatrix)\n",
    "    print Xmatrix\n",
    "    for i in range(n):\n",
    "        for j in range(M):\n",
    "            Xmatrix[i,j] = data[i,0] ** j\n",
    "    print Xmatrix\n",
    "    \n",
    "    # yvec is an n-dimensional vector of target values\n",
    "    yvec = data[:,1]\n",
    "    yvecmatrix = np.matrix(yvec)\n",
    "    yvecmatrix = yvecmatrix.T \n",
    "    print yvecmatrix\n",
    "    \n",
    "    # Find optimal parameters by solving the normal equation\n",
    "    beta = (Xmatrix.T * Xmatrix).I  * Xmatrix.T *yvecmatrix\n",
    "    print 'beta is'\n",
    "    print beta\n",
    "    \n",
    "    # Prepare for plotting\n",
    "    minx = min(data[:,0]) - 1\n",
    "    maxx = max(data[:,0]) + 1\n",
    "    xx = np.linspace(minx, maxx, 50)\n",
    "    \n",
    "    # Plot polynomial fit\n",
    "    y = np.array(xx*0)\n",
    "    for j in range(M):\n",
    "        y = y + beta[j]*xx**j\n",
    "        \n",
    "    plt.figure(1)\n",
    "    plt.plot(xx, y.T, color='r')\n",
    "    plt.scatter(data[:,0],data[:,1]) \n",
    "    plt.show()\n",
    "    "
   ]
  },
  {
   "cell_type": "code",
   "execution_count": 154,
   "metadata": {
    "collapsed": false
   },
   "outputs": [
    {
     "name": "stdout",
     "output_type": "stream",
     "text": [
      "[[ 0.  0.  0.  0.  0.  0.  0.  0.]\n",
      " [ 0.  0.  0.  0.  0.  0.  0.  0.]\n",
      " [ 0.  0.  0.  0.  0.  0.  0.  0.]\n",
      " [ 0.  0.  0.  0.  0.  0.  0.  0.]\n",
      " [ 0.  0.  0.  0.  0.  0.  0.  0.]\n",
      " [ 0.  0.  0.  0.  0.  0.  0.  0.]]\n",
      "[[  1.00000000e+00   4.81938893e+00   2.32265096e+01   1.11937583e+02\n",
      "    5.39470749e+02   2.59991936e+03   1.25300226e+04   6.03870519e+04]\n",
      " [  1.00000000e+00   5.86721086e+00   3.44241633e+01   2.01973825e+02\n",
      "    1.18502302e+03   6.95277993e+03   4.07934259e+04   2.39343632e+05]\n",
      " [  1.00000000e+00   5.55843980e+00   3.08962530e+01   1.71734962e+02\n",
      "    9.54578450e+02   5.30596685e+03   2.94928973e+04   1.63934494e+05]\n",
      " [  1.00000000e+00   5.50672137e+00   3.03239802e+01   1.66985710e+02\n",
      "    9.19543777e+02   5.06367136e+03   2.78842273e+04   1.53550670e+05]\n",
      " [  1.00000000e+00   2.30669548e+00   5.32084402e+00   1.22735668e+01\n",
      "    2.83113811e+01   6.53057347e+01   1.50640443e+02   3.47481628e+02]\n",
      " [  1.00000000e+00   1.21725907e+00   1.48171963e+00   1.80363666e+00\n",
      "    2.19549307e+00   2.67248385e+00   3.25310519e+00   3.95987179e+00]]\n",
      "[[ 1.57010304]\n",
      " [ 0.27812511]\n",
      " [ 0.57834842]\n",
      " [ 6.14701185]\n",
      " [ 1.21380346]\n",
      " [ 0.54724024]]\n",
      "beta is\n",
      "[[ -8.36587749e+03]\n",
      " [  1.65870916e+04]\n",
      " [ -1.26888469e+04]\n",
      " [  5.21453380e+03]\n",
      " [ -1.34637750e+03]\n",
      " [  2.26674736e+02]\n",
      " [ -2.25709302e+01]\n",
      " [  9.81313550e-01]]\n"
     ]
    },
    {
     "data": {
      "image/png": "[encoded data removed]",
      "text/plain": [
       "<matplotlib.figure.Figure at 0x114db80d0>"
      ]
     },
     "metadata": {},
     "output_type": "display_data"
    }
   ],
   "source": [
    "data = np.random.rand(6, 2) * 10\n",
    "M = 8\n",
    "polyFit(data,M)"
   ]
  },
  {
   "cell_type": "code",
   "execution_count": 122,
   "metadata": {
    "collapsed": false
   },
   "outputs": [
    {
     "name": "stdout",
     "output_type": "stream",
     "text": [
      "[[ 1.91894256  6.43246552]\n",
      " [ 9.34887231  8.10468673]\n",
      " [ 1.52941831  7.9964164 ]]\n",
      "8.10468672964\n",
      "8.10468672964\n",
      "[ 6.43246552  8.10468673  7.9964164 ]\n"
     ]
    }
   ],
   "source": [
    "data = np.random.rand(3, 2) * 10\n",
    "print data\n",
    "\n",
    "print data[1][1]\n",
    "print data[1,1]\n",
    "\n",
    "dataslice = data[:,1]\n",
    "print dataslice"
   ]
  },
  {
   "cell_type": "code",
   "execution_count": 58,
   "metadata": {
    "collapsed": false
   },
   "outputs": [
    {
     "data": {
      "text/plain": [
       "array([[ 0.,  0.],\n",
       "       [ 0.,  0.],\n",
       "       [ 0.,  0.],\n",
       "       [ 0.,  0.],\n",
       "       [ 0.,  0.],\n",
       "       [ 0.,  0.],\n",
       "       [ 0.,  0.]])"
      ]
     },
     "execution_count": 58,
     "metadata": {},
     "output_type": "execute_result"
    }
   ],
   "source": [
    "np.zeros((7,2))"
   ]
  },
  {
   "cell_type": "code",
   "execution_count": 113,
   "metadata": {
    "collapsed": false
   },
   "outputs": [
    {
     "name": "stdout",
     "output_type": "stream",
     "text": [
      "[[ 0.  0.]\n",
      " [ 0.  0.]\n",
      " [ 0.  0.]\n",
      " [ 0.  0.]\n",
      " [ 0.  0.]\n",
      " [ 0.  0.]\n",
      " [ 0.  0.]\n",
      " [ 0.  0.]\n",
      " [ 0.  0.]\n",
      " [ 0.  0.]]\n",
      "[[ 0.  0.  0.  0.  0.  0.  0.  0.  0.  0.]\n",
      " [ 0.  0.  0.  0.  0.  0.  0.  0.  0.  0.]]\n"
     ]
    }
   ],
   "source": [
    "n = 10\n",
    "M=2\n",
    "protomatrix = np.zeros((n,M))\n",
    "Xmatrix = np.matrix(protomatrix)\n",
    "print Xmatrix\n",
    "print Xmatrix.I"
   ]
  },
  {
   "cell_type": "code",
   "execution_count": null,
   "metadata": {
    "collapsed": true
   },
   "outputs": [],
   "source": []
  }
 ],
 "metadata": {
  "kernelspec": {
   "display_name": "Python 2",
   "language": "python",
   "name": "python2"
  },
  "language_info": {
   "codemirror_mode": {
    "name": "ipython",
    "version": 2
   },
   "file_extension": ".py",
   "mimetype": "text/x-python",
   "name": "python",
   "nbconvert_exporter": "python",
   "pygments_lexer": "ipython2",
   "version": "2.7.10"
  }
 },
 "nbformat": 4,
 "nbformat_minor": 0
}
