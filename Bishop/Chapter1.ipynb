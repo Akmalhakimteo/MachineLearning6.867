{
 "cells": [
  {
   "cell_type": "markdown",
   "metadata": {},
   "source": [
    "# Chapter 1\n",
    "\n",
    "Searching for patterns in data has a long and successful history.  Back to Tycho Brahe's observations in the 16th century and Johannes Kepler discovering the empirical laws of planetary motion.\n",
    "\n",
    "It is very difficult to design by hand a method that will recognize handwritten digits.  One could use handcrafted rules or heuristics for distinguishing the digits based on the shapes of the strokes, but in practice such an approach leads to a proliferation of rules and exceptions to the rules and so on... this invariably gives bad results!\n",
    "\n",
    "In a machine learning approach, a *training set* of $N$ digits $\\{x_1, ..., x_N\\}$ is used to tune the parameters of an apadtive model.  Category of a digit is *target vector* $\\bf{t}$.\n",
    "\n",
    "Result of a machine learning algorithm can be expressed as a function $\\bf{y}(\\bf{x})$ which takes a new digit image $\\bf{x}$ as input and generates on vector $\\bf{y}$, encoded in the same way as the target vectors.  The function $\\bf{y}(\\bf{x})$ is determined during the *training phase*, AKA the *learning phase*.  Once trained, the model can be used on a new set of input data, termed the *test set*.  Ability to categorize correctly new examples that differ from those used for traning is known as *generalization*.  Generalization is a central goal.\n",
    "\n",
    "*Pre-processing* often occurs in order to make the problem more tractable.  (In handwritten digit recogniztion, the digits are typically translated and scaled so that each digit is contained within a box of a fixed size.)  This greatly reduces the variability within each digit class, because the location and scale of all the digits are now the same.  Pre-processing stage often also called *feature extraction*.\n",
    "\n",
    "*Supervised learning* - When the training data comprises examples of input vectors along with their corresponding target vectors.  The dataset is \"labeled\".  *Classification* problems aim to assign each input vectorto a finite number of discrete categories.  *Regression* problems are for assinging input vectors to a value for one or more continious variables.\n",
    "\n",
    "*Unsupervised learning* - When the training data consists of a set of input vectors without any corresponding target values.  The goal may be to discover groups of similar examples within the data, where it is called clustering, or to determine the distribution of data within the input space, known as *density estimation*, or to project data from a high-dimensional space down to two or three dimensions for the purpose of *visualization*.\n",
    "\n",
    "*Reinforcement learning* - Concerned with the porblem of finding suitable actions to take in a given situation in order to maximize a reward.  Here the learning algorithm is not given examples of optimal outputs, but must instead discover them by a process of trial and error.  There is a sequence of states and actions in which the learning algorithm is interacting with its environment.  In many cases, the current action not only affects the immediate reward but also has an impact on the reward at all subsequent time steps.  A general feature is the tradeoff between *exploration* in which the system tries out new kinds of actions to see how effective they are, and *exploitation* in which the system makes use of actions that are known to yield a high reward.\n",
    "\n",
    "## 1.1 Example: Polynomial Curve Fitting"
   ]
  },
  {
   "cell_type": "markdown",
   "metadata": {},
   "source": [
    "Suppose we observe a real-value input variable $x$ and we wish to use this observation to predict the value of a real-valued target variable $t$.\n",
    "\n",
    "Generate data from $\\sin(2\\pi x)$ with random noise in the target variables.\n",
    "\n",
    "Given a training set comprisiing $N$ observations of $x$, written $\\textbf{x} = (x_1,...,x_N)^T$, together with corresponding observations of the values of $t$, denoted $\\textbf{t}=(t_1,...,t_N)^T$.  \n",
    "\n",
    "Generate below for N = 10.  Input data set spaced $x_n$ uniformly for $x=1,...,N$ in range [0,1].  Target data set obtained by first computing the corresponding values of $\\sin(2\\pi x)$ and then adding a small level of random nosie having a Gaussian distribution."
   ]
  },
  {
   "cell_type": "code",
   "execution_count": 71,
   "metadata": {
    "collapsed": false
   },
   "outputs": [
    {
     "data": {
      "image/png": "[encoded data removed]",
      "text/plain": [
       "<matplotlib.figure.Figure at 0x11e56aad0>"
      ]
     },
     "metadata": {},
     "output_type": "display_data"
    }
   ],
   "source": [
    "%matplotlib inline\n",
    "N = 10\n",
    "import numpy as np\n",
    "import math\n",
    "import matplotlib.pyplot as plt\n",
    "\n",
    "xline = np.linspace(0,1,10000)\n",
    "tline = np.sin(2 * math.pi * xline)\n",
    "\n",
    "x = np.linspace(0,1,10)\n",
    "t = np.sin(2 * math.pi * x) + np.random.randn(1,10)[0]*0.1\n",
    "\n",
    "plt.plot(xline,tline, color='blue')\n",
    "plt.plot(x,t,'.', color='red')\n",
    "plt.show()"
   ]
  }
 ],
 "metadata": {
  "kernelspec": {
   "display_name": "Python 2",
   "language": "python",
   "name": "python2"
  },
  "language_info": {
   "codemirror_mode": {
    "name": "ipython",
    "version": 2
   },
   "file_extension": ".py",
   "mimetype": "text/x-python",
   "name": "python",
   "nbconvert_exporter": "python",
   "pygments_lexer": "ipython2",
   "version": "2.7.10"
  }
 },
 "nbformat": 4,
 "nbformat_minor": 0
}
