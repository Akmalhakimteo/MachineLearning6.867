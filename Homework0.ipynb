{
 "cells": [
  {
   "cell_type": "markdown",
   "metadata": {},
   "source": [
    "# Homework 0\n",
    "\n",
    "###1.1 Just plane fun\n",
    "\n",
    "Consider a hyperplane in n-dimensional Euclidean space, described by the $n+1$ real values $w_i$ for $i = 0, ..., n $ : the hyperplane consists of points $(x_1,...,x_n)$ satisfying\n",
    "\n",
    "$$w_0 + w_1x_1 + ... w_nx_n = 0 $$\n",
    "\n",
    "#### 1. Find a unit vector normal to the hyperplane.\n",
    "\n",
    "A normal vector is described by $\\mathbf{n}$\n",
    "\n",
    "$$\\mathbf{n} = \\begin{bmatrix} w_1 \\\\ w_2 \\\\ \\vdots \\\\ w_n\\end{bmatrix} $$\n"
   ]
  },
  {
   "cell_type": "markdown",
   "metadata": {},
   "source": [
    "And to make it a unit vector we divide by the magnitude of n:\n",
    "\n",
    "$$ \\mathbf{u} = \\frac{\\mathbf{n}}{||\\mathbf{n}||} $$\n",
    "\n",
    "Where $||\\mathbf{n}||$ is the Euclidean magnitude of the vector $\\mathbf{n}$."
   ]
  },
  {
   "cell_type": "markdown",
   "metadata": {},
   "source": [
    "If given a point $(v_1, ..., v_n)$ on the hyperplane, give the equation for the line through the point that is orthogonal to the hyperplane.\n",
    "\n",
    "A parameterization of this line:\n",
    "\n",
    "$$\\mathbf{r}(t) = \\begin{bmatrix} v_1 \\\\ v_2 \\\\ \\vdots \\\\ v_n\\end{bmatrix} + \\begin{bmatrix} w_1 \\\\ w_2 \\\\ \\vdots \\\\ w_n\\end{bmatrix} t $$"
   ]
  },
  {
   "cell_type": "markdown",
   "metadata": {},
   "source": [
    "#### 2.Given a point $(v_1, ..., v_n)$, how can you determine which side of the hyperplane it is on?\n",
    "\n",
    "Plug into $$w_0 + w_1x_1 + ... w_nx_n $$ and see whether $>$ or $<$ 0."
   ]
  },
  {
   "cell_type": "markdown",
   "metadata": {},
   "source": [
    "#### 3. What is the distance of a point \n",
    "\n"
   ]
  },
  {
   "cell_type": "markdown",
   "metadata": {},
   "source": [
    "###1.2 Multivariate Gaussian\n",
    "\n",
    "#### 1. Write the pdf for a multivariate gaussian\n",
    "\n",
    "Here it is:\n",
    "\n",
    "$$p_X(\\mathbf{x}) = \\frac{1}{\\sqrt{(2\\pi)^k|\\mathbf{\\Sigma}|}} \\exp \\big( - \\frac{1}{2}(\\mathbf{x} - \\mathbf{\\mu})^T \\mathbf{\\Sigma}^{-1}(\\mathbf{x} - \\mathbf{\\mu})\\big) $$"
   ]
  },
  {
   "cell_type": "markdown",
   "metadata": {},
   "source": [
    "#### 2. Let Y = 2X.  What is the pdf of Y?\n",
    "\n",
    "It is:\n",
    "\n",
    "$$p_X(\\mathbf{x}) = \\frac{1}{\\sqrt{(2\\pi)^k|4\\mathbf{\\Sigma}|}} \\exp \\big( - \\frac{1}{2}(\\mathbf{x} - 2\\mathbf{\\mu})^T  (4\\mathbf{\\Sigma})^{-1}(\\mathbf{x} - 2\\mathbf{\\mu})\\big) $$"
   ]
  },
  {
   "cell_type": "markdown",
   "metadata": {},
   "source": [
    "## Programming problems\n",
    "\n",
    "### 2.1 Regularization\n",
    "\n",
    "Given an $n \\times n$ matrix $C$, add a scalar $a$ to each diagonal entry of $C$."
   ]
  },
  {
   "cell_type": "code",
   "execution_count": 212,
   "metadata": {
    "collapsed": false
   },
   "outputs": [
    {
     "data": {
      "image/png": "[encoded data removed]",
      "text/plain": [
       "<matplotlib.figure.Figure at 0x11da23890>"
      ]
     },
     "metadata": {},
     "output_type": "display_data"
    }
   ],
   "source": [
    "import numpy as np\n",
    "import math\n",
    "import matplotlib.pyplot as plt\n",
    "%matplotlib inline\n",
    "\n",
    "\n",
    "n = 100\n",
    "origC = np.random.randn(n,n)\n",
    "\n",
    "a = 2\n",
    "\n",
    "import time\n",
    "numiter = 10\n",
    "timevecIJ = np.zeros((numiter,1))\n",
    "plotvec = np.linspace(1,10,10)\n",
    "\n",
    "for itr in range(numiter):\n",
    "    C = origC\n",
    "    start = time.clock()\n",
    "    \n",
    "    for i in range(C.shape[0]):\n",
    "        for j in range(C.shape[1]):\n",
    "            if i == j:\n",
    "                C[i,j] = C[i,j] + a\n",
    "\n",
    "    end = time.clock()\n",
    "    timevecIJ[itr] = end - start\n",
    "    \n",
    "timevecADD = np.zeros((numiter,1))   \n",
    "\n",
    "for itr in range(numiter):\n",
    "    C = origC\n",
    "    start = time.clock()\n",
    "       \n",
    "    C = C + np.diag(np.ones(n)*a)\n",
    "    \n",
    "    end = time.clock()\n",
    "    timevecADD[itr] = end - start\n",
    "\n",
    "\n",
    "plt.figure(1)    \n",
    "plt.plot(plotvec,timevecIJ,color='red')\n",
    "plt.plot(plotvec,timevecADD,color='blue')\n",
    "plt.show()\n",
    "\n"
   ]
  },
  {
   "cell_type": "code",
   "execution_count": 213,
   "metadata": {
    "collapsed": false
   },
   "outputs": [
    {
     "data": {
      "image/png": "[encoded data removed]",
      "text/plain": [
       "<matplotlib.figure.Figure at 0x11d66c510>"
      ]
     },
     "metadata": {},
     "output_type": "display_data"
    }
   ],
   "source": [
    "import numpy as np\n",
    "import math\n",
    "import matplotlib.pyplot as plt\n",
    "%matplotlib inline\n",
    "\n",
    "import time\n",
    "N = 100\n",
    "a = 2\n",
    "plottimevec = np.linspace(0,N,N+1)\n",
    "IJtime = np.zeros((N+1,1))\n",
    "ADDtime = np.zeros((N+1,1))\n",
    "\n",
    "for n in range(1,N+1):\n",
    "\n",
    "    origC = np.random.randn(n,n)\n",
    "\n",
    "    numiter = 10\n",
    "    timevecIJ = np.zeros((numiter,1))\n",
    "\n",
    "    for itr in range(numiter):\n",
    "        C = origC\n",
    "        start = time.clock()\n",
    "\n",
    "        for i in range(C.shape[0]):\n",
    "            for j in range(C.shape[1]):\n",
    "                if i == j:\n",
    "                    C[i,j] = C[i,j] + a\n",
    "\n",
    "        end = time.clock()\n",
    "        timevecIJ[itr] = end - start\n",
    "        \n",
    "    IJtime[n] = np.mean(timevecIJ)    \n",
    "\n",
    "    timevecADD = np.zeros((numiter,1))   \n",
    "\n",
    "    for itr in range(numiter):\n",
    "        C = origC\n",
    "        start = time.clock()\n",
    "\n",
    "        C = C + np.diag(np.ones(n)*a)\n",
    "\n",
    "        end = time.clock()\n",
    "        timevecADD[itr] = end - start\n",
    "    \n",
    "    ADDtime[n] = np.mean(timevecADD) \n",
    "\n",
    "\n",
    "plt.figure(1)    \n",
    "plt.plot(plottimevec,IJtime,color='red')\n",
    "plt.plot(plottimevec,ADDtime,color='blue')\n",
    "plt.show()\n",
    "\n"
   ]
  },
  {
   "cell_type": "markdown",
   "metadata": {},
   "source": [
    "## 2.2 Largest Off-diagonal Element\n",
    "\n",
    "Given an $n \\times n$ matrix $A$, find the largest off-diagonal element."
   ]
  },
  {
   "cell_type": "code",
   "execution_count": 214,
   "metadata": {
    "collapsed": false
   },
   "outputs": [
    {
     "name": "stdout",
     "output_type": "stream",
     "text": [
      "[[-0.96774441  0.98244955 -1.20488702  0.04311135 -0.52337463]\n",
      " [ 1.70830879 -1.9704082  -2.57037043  1.2424986  -0.63497944]\n",
      " [-0.10433221  0.23220285  1.04331035  0.46918597 -0.04524707]\n",
      " [ 0.37823184  0.33062756 -0.46278396 -0.59516563  1.5406353 ]\n",
      " [-1.09673647  0.57627366  0.65902934 -1.78703373  1.64560901]]\n",
      "1.70830878963\n"
     ]
    }
   ],
   "source": [
    "import numpy as np\n",
    "import math\n",
    "import matplotlib.pyplot as plt\n",
    "%matplotlib inline\n",
    "\n",
    "n = 5\n",
    "A = np.random.randn(n,n)\n",
    "print A\n",
    "\n",
    "newmax = 0\n",
    "for i in range(A.shape[0]):\n",
    "    for j in range(A.shape[1]):\n",
    "        if i != j:\n",
    "            if A[i,j] > newmax:\n",
    "                newmax = A[i,j]\n",
    "print newmax\n"
   ]
  },
  {
   "cell_type": "code",
   "execution_count": 215,
   "metadata": {
    "collapsed": false
   },
   "outputs": [
    {
     "name": "stdout",
     "output_type": "stream",
     "text": [
      "[[ 0.33797246  1.67318903 -0.44937167 -0.35009047  0.8570302 ]\n",
      " [-0.28861831  0.34026528  0.25760404  0.95029192 -0.12299936]\n",
      " [-0.13673444  0.92602699 -0.83798191  1.88640595 -0.10642227]\n",
      " [ 0.65213624 -0.10255924  1.53586351 -0.19448742  1.0438691 ]\n",
      " [-0.27620733  0.90956515 -1.11772767 -1.03862358 -0.17043015]]\n",
      "1.88640595413\n"
     ]
    }
   ],
   "source": [
    "import numpy as np\n",
    "import math\n",
    "import matplotlib.pyplot as plt\n",
    "%matplotlib inline\n",
    "\n",
    "n = 5\n",
    "A = np.random.randn(n,n)\n",
    "print A\n",
    "\n",
    "np.fill_diagonal(A,0)\n",
    "newmax = np.amax(A)\n",
    "\n",
    "print newmax"
   ]
  },
  {
   "cell_type": "code",
   "execution_count": 216,
   "metadata": {
    "collapsed": false
   },
   "outputs": [
    {
     "data": {
      "image/png": "[encoded data removed]",
      "text/plain": [
       "<matplotlib.figure.Figure at 0x11d70ef90>"
      ]
     },
     "metadata": {},
     "output_type": "display_data"
    }
   ],
   "source": [
    "import time\n",
    "N = 100\n",
    "plottimevec = np.linspace(0,N,N+1)\n",
    "IJtime = np.zeros((N+1,1))\n",
    "FINDtime = np.zeros((N+1,1))\n",
    "\n",
    "for n in range(1,N+1):\n",
    "\n",
    "    origA = np.random.randn(n,n)\n",
    "\n",
    "    numiter = 10\n",
    "    timevecIJ = np.zeros((numiter,1))\n",
    "\n",
    "    for itr in range(numiter):\n",
    "        newmax = 0\n",
    "        A = origA\n",
    "        start = time.clock()\n",
    "\n",
    "        for i in range(A.shape[0]):\n",
    "            for j in range(A.shape[1]):\n",
    "                if i != j:\n",
    "                    if A[i,j] > newmax:\n",
    "                        newmax = A[i,j]\n",
    "\n",
    "        end = time.clock()\n",
    "        timevecIJ[itr] = end - start\n",
    "        \n",
    "    IJtime[n] = np.mean(timevecIJ)    \n",
    "\n",
    "    timevecFIND = np.zeros((numiter,1))   \n",
    "\n",
    "    for itr in range(numiter):\n",
    "        A = origA\n",
    "        start = time.clock()\n",
    "\n",
    "        np.fill_diagonal(A,0)\n",
    "        newmax = np.amax(A)\n",
    "\n",
    "        end = time.clock()\n",
    "        timevecFIND[itr] = end - start\n",
    "    \n",
    "    FINDtime[n] = np.mean(timevecFIND) \n",
    "\n",
    "\n",
    "plt.figure(1)    \n",
    "plt.plot(plottimevec,IJtime,color='red')\n",
    "plt.plot(plottimevec,FINDtime,color='blue')\n",
    "plt.show()\n"
   ]
  },
  {
   "cell_type": "markdown",
   "metadata": {},
   "source": [
    "## 2.3 Pairwise Computation\n",
    "\n",
    "Given a vector $x$ of length $m$, and vector $y$ of length $n$, compute $m \\times n$ matrixes: $A$ and $B$, such that $A(i,j) = x(i) + y(j)$, and $B(i,j) = x(i) \\cdot y(j)$."
   ]
  },
  {
   "cell_type": "code",
   "execution_count": 217,
   "metadata": {
    "collapsed": false
   },
   "outputs": [
    {
     "name": "stdout",
     "output_type": "stream",
     "text": [
      "[[-0.32106144]\n",
      " [ 0.80679249]\n",
      " [ 0.21402959]\n",
      " [-0.78451276]\n",
      " [-0.8519078 ]]\n",
      "[[ 0.25951119]\n",
      " [-0.25107845]\n",
      " [ 0.17022641]]\n",
      "[[-0.06155024 -0.57213989 -0.15083503]\n",
      " [ 1.06630368  0.55571404  0.9770189 ]\n",
      " [ 0.47354078 -0.03704886  0.384256  ]\n",
      " [-0.52500156 -1.03559121 -0.61428635]\n",
      " [-0.59239661 -1.10298626 -0.68168139]]\n"
     ]
    }
   ],
   "source": [
    "m = 5\n",
    "\n",
    "x = np.random.randn(m,1)\n",
    "print x\n",
    "\n",
    "n = 3\n",
    "\n",
    "y = np.random.randn(n,1)\n",
    "print y\n",
    "\n",
    "A = np.zeros((m,n))\n",
    "A[:,:] = x\n",
    "A[:,:] = A[:,:] + y.T\n",
    "print A\n"
   ]
  },
  {
   "cell_type": "code",
   "execution_count": 218,
   "metadata": {
    "collapsed": false
   },
   "outputs": [
    {
     "name": "stdout",
     "output_type": "stream",
     "text": [
      "[[-0.08331904  0.08061161 -0.05465314]\n",
      " [ 0.20937168 -0.20256821  0.13733739]\n",
      " [ 0.05554307 -0.05373822  0.03643349]\n",
      " [-0.20358984  0.19697425 -0.13354479]\n",
      " [-0.22107961  0.21389569 -0.14501721]]\n"
     ]
    }
   ],
   "source": [
    "B = np.zeros((m,n))\n",
    "\n",
    "B[:,:] = x\n",
    "B[:,:] = B[:,:] * y.T\n",
    "print B"
   ]
  },
  {
   "cell_type": "markdown",
   "metadata": {},
   "source": [
    "## 2.4 Pairwise Euclidean Distances\n",
    "\n",
    "Given a $d \\times m$ matrix $X$, and a $d \\times n$ matrix $Y$, compute an $m \\times n$ matrix $D$, such that $D(i,j) = ||x^i - y^j||^2$ where $x^i$ is the $i$-th column of $X$, and $y^j$ is the $j$-th column of $Y$.\n",
    "\n"
   ]
  },
  {
   "cell_type": "code",
   "execution_count": 219,
   "metadata": {
    "collapsed": false
   },
   "outputs": [
    {
     "name": "stdout",
     "output_type": "stream",
     "text": [
      "[[ 2.60949569  1.23143566  4.04120181  2.23310023]\n",
      " [ 2.58076513  0.80789554  3.1812892   1.67199679]\n",
      " [ 3.97486463  2.85864389  1.64503946  1.10816639]\n",
      " [ 4.82273277  2.99276838  1.4876674   1.12546561]\n",
      " [ 2.97372603  1.00599215  3.24712291  1.43901475]]\n",
      "[ 1.11107986  3.39398131  3.96838805  1.20192411  2.97103521  3.60099144\n",
      "  0.5022701   0.87288888  2.66659502  3.24963112]\n"
     ]
    }
   ],
   "source": [
    "import scipy.spatial\n",
    "\n",
    "m = 5;\n",
    "n = 4;\n",
    "d = 3;\n",
    "\n",
    "x = np.random.randn(d,m)\n",
    "y = np.random.randn(d,n)\n",
    "\n",
    "D = np.random.randn(m,n)\n",
    "\n",
    "for i in range(m):\n",
    "    for j in range(n):\n",
    "        D[i,j] = np.linalg.norm(x[:,i] - y[:,j])\n",
    "        \n",
    "print D\n",
    "\n",
    "print scipy.spatial.distance.pdist(D)"
   ]
  },
  {
   "cell_type": "markdown",
   "metadata": {},
   "source": [
    "## 2.5 Compute Mahalanobis Distances\n",
    "\n",
    "Given a center vector $c$, a covariance matrix $S$, and a set of $n$ vectors as columns in matrix $X$, compute the distances of each column in $X$ to $c$, using the following formula:\n",
    "\n",
    "$$ D(i) = (x^i - c)^T S^{-1}(x^i - c) $$\n",
    "\n",
    "Here, $D$ is a row vector of length $n$."
   ]
  },
  {
   "cell_type": "code",
   "execution_count": 220,
   "metadata": {
    "collapsed": false
   },
   "outputs": [
    {
     "name": "stdout",
     "output_type": "stream",
     "text": [
      "[ 11.37253519 -12.54277689 -26.78566099]\n"
     ]
    }
   ],
   "source": [
    "# X is a matrix with n vectors as columns\n",
    "\n",
    "# so X is m x n matrix\n",
    "\n",
    "# center vector c also should have m elements\n",
    "\n",
    "# x^i is a column of x, and need to be able to do subtraction with c, \n",
    "# so they have same amount of elemetns\n",
    "\n",
    "m = 7\n",
    "n = 3\n",
    "\n",
    "c = np.random.randn(m,1)\n",
    "\n",
    "X = np.random.randn(m,n)\n",
    "\n",
    "# D is a row vector of length n, that means it is 1 x n\n",
    "\n",
    "i = 0\n",
    "D = np.zeros((1,n))[0]\n",
    "S = np.random.randn(m,m)\n",
    "S = np.matrix(S)\n",
    "\n",
    "for i in range(len(D)):\n",
    "    D[i] = np.matrix(X[:,i] - c[:,0]) * S.I * np.matrix(X[:,i] - c[:,0]).T\n",
    "    \n",
    "print D\n"
   ]
  }
 ],
 "metadata": {
  "kernelspec": {
   "display_name": "Python 2",
   "language": "python",
   "name": "python2"
  },
  "language_info": {
   "codemirror_mode": {
    "name": "ipython",
    "version": 2
   },
   "file_extension": ".py",
   "mimetype": "text/x-python",
   "name": "python",
   "nbconvert_exporter": "python",
   "pygments_lexer": "ipython2",
   "version": "2.7.10"
  }
 },
 "nbformat": 4,
 "nbformat_minor": 0
}
