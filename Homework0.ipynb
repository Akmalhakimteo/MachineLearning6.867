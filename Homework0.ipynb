{
 "cells": [
  {
   "cell_type": "markdown",
   "metadata": {},
   "source": [
    "# Homework 0\n",
    "\n",
    "###1.1 Just plane fun\n",
    "\n",
    "Consider a hyperplane in n-dimensional Euclidean space, described by the $n+1$ real values $w_i$ for $i = 0, ..., n $ : the hyperplane consists of points $(x_1,...,x_n)$ satisfying\n",
    "\n",
    "$$w_0 + w_1x_1 + ... w_nx_n = 0 $$\n",
    "\n",
    "#### 1. Find a unit vector normal to the hyperplane.\n",
    "\n",
    "A normal vector is described by $\\mathbf{n}$\n",
    "\n",
    "$$\\mathbf{n} = \\begin{bmatrix} w_1 \\\\ w_2 \\\\ \\vdots \\\\ w_n\\end{bmatrix} $$\n"
   ]
  },
  {
   "cell_type": "markdown",
   "metadata": {},
   "source": [
    "And to make it a unit vector we divide by the magnitude of n:\n",
    "\n",
    "$$ \\mathbf{u} = \\frac{\\mathbf{n}}{||\\mathbf{n}||} $$\n",
    "\n",
    "Where $||\\mathbf{n}||$ is the Euclidean magnitude of the vector $\\mathbf{n}$."
   ]
  },
  {
   "cell_type": "markdown",
   "metadata": {},
   "source": [
    "If given a point $(v_1, ..., v_n)$ on the hyperplane, give the equation for the line through the point that is orthogonal to the hyperplane.\n",
    "\n",
    "A parameterization of this line:\n",
    "\n",
    "$$\\mathbf{r}(t) = \\begin{bmatrix} v_1 \\\\ v_2 \\\\ \\vdots \\\\ v_n\\end{bmatrix} + \\begin{bmatrix} w_1 \\\\ w_2 \\\\ \\vdots \\\\ w_n\\end{bmatrix} t $$"
   ]
  },
  {
   "cell_type": "markdown",
   "metadata": {},
   "source": [
    "#### 2.Given a point $(v_1, ..., v_n)$, how can you determine which side of the hyperplane it is on?\n",
    "\n",
    "Plug into $$w_0 + w_1x_1 + ... w_nx_n $$ and see whether $>$ or $<$ 0."
   ]
  },
  {
   "cell_type": "markdown",
   "metadata": {},
   "source": [
    "#### 3. What is the distance of a point \n",
    "\n"
   ]
  },
  {
   "cell_type": "markdown",
   "metadata": {},
   "source": [
    "###1.2 Multivariate Gaussian\n",
    "\n",
    "#### 1. Write the pdf for a multivariate gaussian\n",
    "\n",
    "Here it is:\n",
    "\n",
    "$$p_X(\\mathbf{x}) = \\frac{1}{\\sqrt{(2\\pi)^k|\\mathbf{\\Sigma}|}} \\exp \\big( - \\frac{1}{2}(\\mathbf{x} - \\mathbf{\\mu})^T \\mathbf{\\Sigma}^{-1}(\\mathbf{x} - \\mathbf{\\mu})\\big) $$"
   ]
  },
  {
   "cell_type": "markdown",
   "metadata": {},
   "source": [
    "#### 2. Let Y = 2X.  What is the pdf of Y?\n",
    "\n",
    "It is:\n",
    "\n",
    "$$p_X(\\mathbf{x}) = \\frac{1}{\\sqrt{(2\\pi)^k|4\\mathbf{\\Sigma}|}} \\exp \\big( - \\frac{1}{2}(\\mathbf{x} - 2\\mathbf{\\mu})^T  (4\\mathbf{\\Sigma})^{-1}(\\mathbf{x} - 2\\mathbf{\\mu})\\big) $$"
   ]
  },
  {
   "cell_type": "markdown",
   "metadata": {},
   "source": [
    "## Programming problems\n",
    "\n",
    "### 2.1 Regularization\n",
    "\n",
    "Given an $n \\times n$ matrix $C$, add a scalar $a$ to each diagonal entry of $C$."
   ]
  },
  {
   "cell_type": "code",
   "execution_count": 243,
   "metadata": {
    "collapsed": false
   },
   "outputs": [
    {
     "data": {
      "image/png": "[encoded data removed]",
      "text/plain": [
       "<matplotlib.figure.Figure at 0x116416e90>"
      ]
     },
     "metadata": {},
     "output_type": "display_data"
    }
   ],
   "source": [
    "import numpy as np\n",
    "import math\n",
    "import matplotlib.pyplot as plt\n",
    "%matplotlib inline\n",
    "\n",
    "\n",
    "n = 100\n",
    "origC = np.random.randn(n,n)\n",
    "\n",
    "a = 2\n",
    "\n",
    "import time\n",
    "numiter = 10\n",
    "timevecIJ = np.zeros((numiter,1))\n",
    "plotvec = np.linspace(1,10,10)\n",
    "\n",
    "for itr in range(numiter):\n",
    "    C = origC\n",
    "    start = time.clock()\n",
    "    \n",
    "    for i in range(C.shape[0]):\n",
    "        for j in range(C.shape[1]):\n",
    "            if i == j:\n",
    "                C[i,j] = C[i,j] + a\n",
    "\n",
    "    end = time.clock()\n",
    "    timevecIJ[itr] = end - start\n",
    "    \n",
    "timevecADD = np.zeros((numiter,1))   \n",
    "\n",
    "for itr in range(numiter):\n",
    "    C = origC\n",
    "    start = time.clock()\n",
    "       \n",
    "    C = C + np.diag(np.ones(n)*a)\n",
    "    \n",
    "    end = time.clock()\n",
    "    timevecADD[itr] = end - start\n",
    "\n",
    "\n",
    "plt.figure(1)    \n",
    "plt.plot(plotvec,timevecIJ,color='red')\n",
    "plt.plot(plotvec,timevecADD,color='blue')\n",
    "plt.show()\n",
    "\n"
   ]
  },
  {
   "cell_type": "code",
   "execution_count": 244,
   "metadata": {
    "collapsed": false
   },
   "outputs": [
    {
     "data": {
      "image/png": "[encoded data removed]",
      "text/plain": [
       "<matplotlib.figure.Figure at 0x11d8906d0>"
      ]
     },
     "metadata": {},
     "output_type": "display_data"
    }
   ],
   "source": [
    "import numpy as np\n",
    "import math\n",
    "import matplotlib.pyplot as plt\n",
    "%matplotlib inline\n",
    "\n",
    "import time\n",
    "N = 100\n",
    "a = 2\n",
    "plottimevec = np.linspace(0,N,N+1)\n",
    "IJtime = np.zeros((N+1,1))\n",
    "ADDtime = np.zeros((N+1,1))\n",
    "\n",
    "for n in range(1,N+1):\n",
    "\n",
    "    origC = np.random.randn(n,n)\n",
    "\n",
    "    numiter = 10\n",
    "    timevecIJ = np.zeros((numiter,1))\n",
    "\n",
    "    for itr in range(numiter):\n",
    "        C = origC\n",
    "        start = time.clock()\n",
    "\n",
    "        for i in range(C.shape[0]):\n",
    "            for j in range(C.shape[1]):\n",
    "                if i == j:\n",
    "                    C[i,j] = C[i,j] + a\n",
    "\n",
    "        end = time.clock()\n",
    "        timevecIJ[itr] = end - start\n",
    "        \n",
    "    IJtime[n] = np.mean(timevecIJ)    \n",
    "\n",
    "    timevecADD = np.zeros((numiter,1))   \n",
    "\n",
    "    for itr in range(numiter):\n",
    "        C = origC\n",
    "        start = time.clock()\n",
    "\n",
    "        C = C + np.diag(np.ones(n)*a)\n",
    "\n",
    "        end = time.clock()\n",
    "        timevecADD[itr] = end - start\n",
    "    \n",
    "    ADDtime[n] = np.mean(timevecADD) \n",
    "\n",
    "\n",
    "plt.figure(1)    \n",
    "plt.plot(plottimevec,IJtime,color='red')\n",
    "plt.plot(plottimevec,ADDtime,color='blue')\n",
    "plt.show()\n",
    "\n"
   ]
  },
  {
   "cell_type": "markdown",
   "metadata": {},
   "source": [
    "## 2.2 Largest Off-diagonal Element\n",
    "\n",
    "Given an $n \\times n$ matrix $A$, find the largest off-diagonal element."
   ]
  },
  {
   "cell_type": "code",
   "execution_count": 245,
   "metadata": {
    "collapsed": false
   },
   "outputs": [
    {
     "name": "stdout",
     "output_type": "stream",
     "text": [
      "[[-0.05433472  1.35174589  0.54661918 -0.04424906 -1.37347595]\n",
      " [-1.56735361 -0.01714577  1.82008393  1.08054126 -0.18496513]\n",
      " [ 0.83190882  1.78081666 -1.43450644 -0.46210016 -0.73808055]\n",
      " [ 1.1659578   0.87781273  0.89749421  0.67696744  0.62119147]\n",
      " [-0.46789121 -0.81983519 -1.158586    0.73541896 -0.44764458]]\n",
      "1.82008393347\n"
     ]
    }
   ],
   "source": [
    "import numpy as np\n",
    "import math\n",
    "import matplotlib.pyplot as plt\n",
    "%matplotlib inline\n",
    "\n",
    "n = 5\n",
    "A = np.random.randn(n,n)\n",
    "print A\n",
    "\n",
    "newmax = 0\n",
    "for i in range(A.shape[0]):\n",
    "    for j in range(A.shape[1]):\n",
    "        if i != j:\n",
    "            if A[i,j] > newmax:\n",
    "                newmax = A[i,j]\n",
    "print newmax\n"
   ]
  },
  {
   "cell_type": "code",
   "execution_count": 246,
   "metadata": {
    "collapsed": false
   },
   "outputs": [
    {
     "name": "stdout",
     "output_type": "stream",
     "text": [
      "[[-0.45514598  0.42452455 -1.04457496  0.69103319 -0.11078613]\n",
      " [-0.14627624 -0.75370483  0.44387189 -0.34625229 -0.66343137]\n",
      " [ 0.09391559 -0.13508695 -0.96313931 -0.76727539  0.91991683]\n",
      " [-1.3208714  -0.18558457 -0.73220697 -0.64087162  0.24922795]\n",
      " [-0.23463208 -1.89654936  0.78352699 -0.26782579  1.63464203]]\n",
      "0.919916832615\n"
     ]
    }
   ],
   "source": [
    "import numpy as np\n",
    "import math\n",
    "import matplotlib.pyplot as plt\n",
    "%matplotlib inline\n",
    "\n",
    "n = 5\n",
    "A = np.random.randn(n,n)\n",
    "print A\n",
    "\n",
    "np.fill_diagonal(A,0)\n",
    "newmax = np.amax(A)\n",
    "\n",
    "print newmax"
   ]
  },
  {
   "cell_type": "code",
   "execution_count": 247,
   "metadata": {
    "collapsed": false
   },
   "outputs": [
    {
     "data": {
      "image/png": "[encoded data removed]",
      "text/plain": [
       "<matplotlib.figure.Figure at 0x11e2efa50>"
      ]
     },
     "metadata": {},
     "output_type": "display_data"
    }
   ],
   "source": [
    "import time\n",
    "N = 100\n",
    "plottimevec = np.linspace(0,N,N+1)\n",
    "IJtime = np.zeros((N+1,1))\n",
    "FINDtime = np.zeros((N+1,1))\n",
    "\n",
    "for n in range(1,N+1):\n",
    "\n",
    "    origA = np.random.randn(n,n)\n",
    "\n",
    "    numiter = 10\n",
    "    timevecIJ = np.zeros((numiter,1))\n",
    "\n",
    "    for itr in range(numiter):\n",
    "        newmax = 0\n",
    "        A = origA\n",
    "        start = time.clock()\n",
    "\n",
    "        for i in range(A.shape[0]):\n",
    "            for j in range(A.shape[1]):\n",
    "                if i != j:\n",
    "                    if A[i,j] > newmax:\n",
    "                        newmax = A[i,j]\n",
    "\n",
    "        end = time.clock()\n",
    "        timevecIJ[itr] = end - start\n",
    "        \n",
    "    IJtime[n] = np.mean(timevecIJ)    \n",
    "\n",
    "    timevecFIND = np.zeros((numiter,1))   \n",
    "\n",
    "    for itr in range(numiter):\n",
    "        A = origA\n",
    "        start = time.clock()\n",
    "\n",
    "        np.fill_diagonal(A,0)\n",
    "        newmax = np.amax(A)\n",
    "\n",
    "        end = time.clock()\n",
    "        timevecFIND[itr] = end - start\n",
    "    \n",
    "    FINDtime[n] = np.mean(timevecFIND) \n",
    "\n",
    "\n",
    "plt.figure(1)    \n",
    "plt.plot(plottimevec,IJtime,color='red')\n",
    "plt.plot(plottimevec,FINDtime,color='blue')\n",
    "plt.show()\n"
   ]
  },
  {
   "cell_type": "markdown",
   "metadata": {},
   "source": [
    "## 2.3 Pairwise Computation\n",
    "\n",
    "Given a vector $x$ of length $m$, and vector $y$ of length $n$, compute $m \\times n$ matrixes: $A$ and $B$, such that $A(i,j) = x(i) + y(j)$, and $B(i,j) = x(i) \\cdot y(j)$."
   ]
  },
  {
   "cell_type": "code",
   "execution_count": 248,
   "metadata": {
    "collapsed": false
   },
   "outputs": [
    {
     "name": "stdout",
     "output_type": "stream",
     "text": [
      "[[ 1.52513749]\n",
      " [-1.47160618]\n",
      " [-0.27531398]\n",
      " [-1.56012899]\n",
      " [-0.26936987]]\n",
      "[[-1.20102432]\n",
      " [ 0.17724184]\n",
      " [-0.47098835]]\n",
      "[[ 0.32411317  1.70237933  1.05414913]\n",
      " [-2.6726305  -1.29436434 -1.94259454]\n",
      " [-1.4763383  -0.09807214 -0.74630234]\n",
      " [-2.76115331 -1.38288715 -2.03111735]\n",
      " [-1.47039419 -0.09212803 -0.74035822]]\n"
     ]
    }
   ],
   "source": [
    "m = 5\n",
    "\n",
    "x = np.random.randn(m,1)\n",
    "print x\n",
    "\n",
    "n = 3\n",
    "\n",
    "y = np.random.randn(n,1)\n",
    "print y\n",
    "\n",
    "A = np.zeros((m,n))\n",
    "A[:,:] = x\n",
    "A[:,:] = A[:,:] + y.T\n",
    "print A\n"
   ]
  },
  {
   "cell_type": "code",
   "execution_count": 249,
   "metadata": {
    "collapsed": false
   },
   "outputs": [
    {
     "name": "stdout",
     "output_type": "stream",
     "text": [
      "[[-1.83172721  0.27031818 -0.718322  ]\n",
      " [ 1.76743481 -0.26083019  0.69310937]\n",
      " [ 0.33065879 -0.04879716  0.12966968]\n",
      " [ 1.87375286 -0.27652014  0.73480259]\n",
      " [ 0.32351976 -0.04774361  0.12687007]]\n"
     ]
    }
   ],
   "source": [
    "B = np.zeros((m,n))\n",
    "\n",
    "B[:,:] = x\n",
    "B[:,:] = B[:,:] * y.T\n",
    "print B"
   ]
  },
  {
   "cell_type": "markdown",
   "metadata": {},
   "source": [
    "## 2.4 Pairwise Euclidean Distances\n",
    "\n",
    "Given a $d \\times m$ matrix $X$, and a $d \\times n$ matrix $Y$, compute an $m \\times n$ matrix $D$, such that $D(i,j) = ||x^i - y^j||^2$ where $x^i$ is the $i$-th column of $X$, and $y^j$ is the $j$-th column of $Y$.\n",
    "\n"
   ]
  },
  {
   "cell_type": "code",
   "execution_count": 250,
   "metadata": {
    "collapsed": false
   },
   "outputs": [
    {
     "name": "stdout",
     "output_type": "stream",
     "text": [
      "[[ 1.52012134  1.7935599   1.12562846  1.27057178]\n",
      " [ 1.28351193  2.25769874  1.35703453  1.51213335]\n",
      " [ 1.321093    0.65310086  2.11558347  0.58698982]\n",
      " [ 1.31049122  1.20876293  1.26411759  1.12604222]\n",
      " [ 3.9801747   3.10483821  2.67065618  3.69031846]]\n",
      "[ 0.61912005  1.66959705  0.65268701  4.00169938  2.00185757  1.12191539\n",
      "  3.80259485  1.15084506  4.79796684  4.39046407]\n"
     ]
    }
   ],
   "source": [
    "import scipy.spatial\n",
    "\n",
    "m = 5;\n",
    "n = 4;\n",
    "d = 3;\n",
    "\n",
    "x = np.random.randn(d,m)\n",
    "y = np.random.randn(d,n)\n",
    "\n",
    "D = np.random.randn(m,n)\n",
    "\n",
    "for i in range(m):\n",
    "    for j in range(n):\n",
    "        D[i,j] = np.linalg.norm(x[:,i] - y[:,j])\n",
    "        \n",
    "print D\n",
    "\n",
    "print scipy.spatial.distance.pdist(D)"
   ]
  },
  {
   "cell_type": "markdown",
   "metadata": {},
   "source": [
    "## 2.5 Compute Mahalanobis Distances\n",
    "\n",
    "Given a center vector $c$, a covariance matrix $S$, and a set of $n$ vectors as columns in matrix $X$, compute the distances of each column in $X$ to $c$, using the following formula:\n",
    "\n",
    "$$ D(i) = (x^i - c)^T S^{-1}(x^i - c) $$\n",
    "\n",
    "Here, $D$ is a row vector of length $n$."
   ]
  },
  {
   "cell_type": "code",
   "execution_count": 251,
   "metadata": {
    "collapsed": false
   },
   "outputs": [
    {
     "name": "stdout",
     "output_type": "stream",
     "text": [
      "[-21.67911309 -22.84469105  76.25048124]\n"
     ]
    }
   ],
   "source": [
    "# X is a matrix with n vectors as columns\n",
    "\n",
    "# so X is m x n matrix\n",
    "\n",
    "# center vector c also should have m elements\n",
    "\n",
    "# x^i is a column of x, and need to be able to do subtraction with c, \n",
    "# so they have same amount of elemetns\n",
    "\n",
    "m = 7\n",
    "n = 3\n",
    "\n",
    "c = np.random.randn(m,1)\n",
    "\n",
    "X = np.random.randn(m,n)\n",
    "\n",
    "# D is a row vector of length n, that means it is 1 x n\n",
    "\n",
    "i = 0\n",
    "D = np.zeros((1,n))[0]\n",
    "S = np.random.randn(m,m)\n",
    "S = np.matrix(S)\n",
    "\n",
    "for i in range(len(D)):\n",
    "    D[i] = np.matrix(X[:,i] - c[:,0]) * S.I * np.matrix(X[:,i] - c[:,0]).T\n",
    "    \n",
    "print D\n"
   ]
  },
  {
   "cell_type": "markdown",
   "metadata": {},
   "source": [
    "## 2.6 2-D Gaussian\n",
    "\n",
    "Generate 1000 random points from a 2-D Gaussian distribution with mean $\\mu$ = $[4,2]$ and covariance\n",
    "\n",
    "$$\\Sigma = \\begin{bmatrix} 1 & 1.5\\\\ 1.5 & 3 \\end{bmatrix} $$\n",
    "\n",
    "Plot the points so obtained, and estimate their mean and covariance from the data.  Find the eigenvectors of the covariance matrix and plot them centered at the sample mean.\n",
    "\n"
   ]
  },
  {
   "cell_type": "code",
   "execution_count": 325,
   "metadata": {
    "collapsed": false
   },
   "outputs": [
    {
     "data": {
      "image/png": "[encoded data removed]",
      "text/plain": [
       "<matplotlib.figure.Figure at 0x11da2de10>"
      ]
     },
     "metadata": {},
     "output_type": "display_data"
    },
    {
     "name": "stdout",
     "output_type": "stream",
     "text": [
      "(1000,)\n",
      "(1000,)\n"
     ]
    }
   ],
   "source": [
    "mean = [4,2]\n",
    "cov = [[1,1.5],[1.5,3]]\n",
    "\n",
    "import matplotlib.pyplot as plt\n",
    "x,y = np.random.multivariate_normal(mean,cov,1000).T\n",
    "plt.plot(x,y,'x'); plt.axis('equal'); plt.show()\n",
    "\n",
    "print x.shape\n",
    "print y.shape\n"
   ]
  },
  {
   "cell_type": "code",
   "execution_count": 347,
   "metadata": {
    "collapsed": false
   },
   "outputs": [
    {
     "name": "stdout",
     "output_type": "stream",
     "text": [
      "4.0273960024\n",
      "2.00778749264\n",
      "(2, 1000)\n",
      "[[ 1.01793765  1.48886601]\n",
      " [ 1.48886601  2.96506751]]\n"
     ]
    }
   ],
   "source": [
    "meanx = np.mean(x); print meanx\n",
    "meany = np.mean(y); print meany\n",
    "\n",
    "X = np.vstack((x,y))\n",
    "print X.shape\n",
    "cov = np.cov(X)\n",
    "print cov"
   ]
  },
  {
   "cell_type": "code",
   "execution_count": 376,
   "metadata": {
    "collapsed": false
   },
   "outputs": [
    {
     "name": "stdout",
     "output_type": "stream",
     "text": [
      "(array([ 0.19722436,  3.80277564]), array([[-0.8816746 , -0.47185793],\n",
      "       [ 0.47185793, -0.8816746 ]]))\n",
      "Eigenvalues are\n",
      "[ 0.19722436  3.80277564]\n",
      "Eigenvectors are\n",
      "[[-0.8816746  -0.47185793]\n",
      " [ 0.47185793 -0.8816746 ]]\n",
      "[-0.8816746   0.47185793]\n",
      "[-0.47185793 -0.8816746 ]\n"
     ]
    }
   ],
   "source": [
    "print np.linalg.eig(cov)\n",
    "print \"Eigenvalues are\"; print np.linalg.eig(cov)[0]\n",
    "print \"Eigenvectors are\"; print np.linalg.eig(cov)[1]\n",
    "eigvec1 = np.linalg.eig(cov)[1][:,0]; print eigvec1\n",
    "eigvec2 = np.linalg.eig(cov)[1][:,1]; print eigvec2"
   ]
  },
  {
   "cell_type": "code",
   "execution_count": 377,
   "metadata": {
    "collapsed": false
   },
   "outputs": [
    {
     "name": "stdout",
     "output_type": "stream",
     "text": [
      "[[-0.8816746 ]\n",
      " [ 0.47185793]]\n",
      "0.197224362268\n",
      "[[-0.17388771]\n",
      " [ 0.09306188]]\n",
      "[[-0.17388771]\n",
      " [ 0.09306188]]\n"
     ]
    }
   ],
   "source": [
    "covmatrix = np.matrix(cov)\n",
    "eigmatrix1 = np.matrix(eigvec1).T\n",
    "print eigmatrix1\n",
    "\n",
    "eigval1 = np.linalg.eig(cov)[0][0]\n",
    "print eigval1\n",
    "\n",
    "print covmatrix * eigmatrix1\n",
    "\n",
    "print eigval1 * eigmatrix1\n"
   ]
  },
  {
   "cell_type": "code",
   "execution_count": 378,
   "metadata": {
    "collapsed": false
   },
   "outputs": [
    {
     "name": "stdout",
     "output_type": "stream",
     "text": [
      "(array([ 0.19722436,  3.80277564]), array([[-0.8816746 , -0.47185793],\n",
      "       [ 0.47185793, -0.8816746 ]]))\n",
      "[-0.8816746  -0.47185793]\n",
      "[[-0.8816746 ]\n",
      " [-0.47185793]]\n",
      "[[-1.58946149]\n",
      " [-2.73808567]]\n",
      "[[ 1.80277564]]\n",
      "[[ 5.80277564]]\n",
      "[[ 1.80277564]\n",
      " [ 5.80277564]]\n"
     ]
    }
   ],
   "source": [
    "cov = [[1,1.5],[1.5,3]]\n",
    "\n",
    "print np.linalg.eig(cov)\n",
    "\n",
    "eig1 = np.linalg.eig(cov)[1][0]\n",
    "print eig1\n",
    "\n",
    "eig1 = np.matrix(eig1).T\n",
    "print eig1\n",
    "\n",
    "\n",
    "covtimeseig = cov * eig1; print covtimeseig\n",
    "\n",
    "print covtimeseig[0] / eig1[0]\n",
    "print covtimeseig[1] / eig1[1]\n",
    "\n",
    "print np.divide(covtimeseig,eig1)\n",
    "\n",
    "\n",
    "\n",
    "\n"
   ]
  },
  {
   "cell_type": "code",
   "execution_count": 379,
   "metadata": {
    "collapsed": false
   },
   "outputs": [
    {
     "name": "stdout",
     "output_type": "stream",
     "text": [
      "[[ 3.  0.  0.]\n",
      " [ 0.  2.  0.]\n",
      " [ 0.  0.  1.]]\n",
      "(array([ 3.,  2.,  1.]), array([[ 1.,  0.,  0.],\n",
      "       [ 0.,  1.,  0.],\n",
      "       [ 0.,  0.,  1.]]))\n"
     ]
    }
   ],
   "source": [
    "A = np.zeros((3,3))\n",
    "np.fill_diagonal(A,[3,2,1])\n",
    "print A\n",
    "\n",
    "print np.linalg.eig(A)"
   ]
  },
  {
   "cell_type": "code",
   "execution_count": 380,
   "metadata": {
    "collapsed": false
   },
   "outputs": [
    {
     "name": "stdout",
     "output_type": "stream",
     "text": [
      "[4.02739600239906, 2.0077874926400519]\n",
      "[-0.8816746   0.47185793]\n"
     ]
    },
    {
     "data": {
      "image/png": "[encoded data removed]",
      "text/plain": [
       "<matplotlib.figure.Figure at 0x11d9c8f50>"
      ]
     },
     "metadata": {},
     "output_type": "display_data"
    }
   ],
   "source": [
    "plt.plot(x,y,'x'); plt.axis('equal'); \n",
    "mean = [meanx, meany]\n",
    "print mean\n",
    "print eigvec1\n",
    "eigend1 = mean + eigvec1*5\n",
    "eigend2 = mean + eigvec2*5\n",
    "plt.plot([mean[0],eigend1[0]],[mean[1],eigend1[1]], color = 'red')\n",
    "plt.plot([mean[0],eigend2[0]],[mean[1],eigend2[1]], color = 'black')\n",
    "\n",
    "plt.show()"
   ]
  },
  {
   "cell_type": "code",
   "execution_count": 375,
   "metadata": {
    "collapsed": false
   },
   "outputs": [
    {
     "name": "stdout",
     "output_type": "stream",
     "text": [
      "(array([-0.37228132,  5.37228132]), matrix([[-0.82456484, -0.41597356],\n",
      "        [ 0.56576746, -0.90937671]]))\n",
      "[[-0.82456484 -0.41597356]\n",
      " [ 0.56576746 -0.90937671]]\n",
      "[[-0.82456484]\n",
      " [ 0.56576746]]\n",
      "[[-0.37228132]\n",
      " [-0.37228132]]\n"
     ]
    }
   ],
   "source": [
    "import numpy as np\n",
    "\n",
    "A = np.matrix([[1,2],[3,4]])\n",
    "eig = np.linalg.eig(A)\n",
    "eigValues = eig[0]\n",
    "print(eig)\n",
    "\n",
    "eigVectorMatrix = eig[1]\n",
    "print(eigVectorMatrix)\n",
    "eigVector = eigVectorMatrix[:,0] # this is the first eigenvector\n",
    "print(eigVector)\n",
    "\n",
    "vec = A*eigVector\n",
    "ratio = np.divide(vec,eigVector)\n",
    "print(ratio)"
   ]
  },
  {
   "cell_type": "code",
   "execution_count": null,
   "metadata": {
    "collapsed": true
   },
   "outputs": [],
   "source": []
  }
 ],
 "metadata": {
  "kernelspec": {
   "display_name": "Python 2",
   "language": "python",
   "name": "python2"
  },
  "language_info": {
   "codemirror_mode": {
    "name": "ipython",
    "version": 2
   },
   "file_extension": ".py",
   "mimetype": "text/x-python",
   "name": "python",
   "nbconvert_exporter": "python",
   "pygments_lexer": "ipython2",
   "version": "2.7.10"
  }
 },
 "nbformat": 4,
 "nbformat_minor": 0
}
